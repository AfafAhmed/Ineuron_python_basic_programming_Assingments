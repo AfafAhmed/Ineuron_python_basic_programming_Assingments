{
 "cells": [
  {
   "cell_type": "markdown",
   "id": "442915c7",
   "metadata": {},
   "source": [
    "# Python Programming Basic Assingment-1"
   ]
  },
  {
   "cell_type": "markdown",
   "id": "4faeeaa9",
   "metadata": {},
   "source": [
    "### 1.\tWrite a Python program to print \"Hello Python\"?"
   ]
  },
  {
   "cell_type": "code",
   "execution_count": 1,
   "id": "388b8fe1",
   "metadata": {},
   "outputs": [
    {
     "name": "stdout",
     "output_type": "stream",
     "text": [
      "Hello Python\n"
     ]
    }
   ],
   "source": [
    "print(\"Hello Python\")"
   ]
  },
  {
   "cell_type": "markdown",
   "id": "b831a410",
   "metadata": {},
   "source": [
    "### 2 Write a Python program to do arithmetical operations addition and division.?"
   ]
  },
  {
   "cell_type": "code",
   "execution_count": 2,
   "id": "b5ec9130",
   "metadata": {},
   "outputs": [
    {
     "name": "stdout",
     "output_type": "stream",
     "text": [
      "Enter a 1st number : 45\n",
      "Enter 2nd number : 27\n",
      "Addition of above 2 numbers :  72\n",
      "Division of above 2 numbers :  1.6666666666666667\n"
     ]
    }
   ],
   "source": [
    "a = int(input(\"Enter a 1st number : \"))\n",
    "b = int(input(\"Enter 2nd number : \"))\n",
    "print(\"Addition of above 2 numbers : \", a+b)\n",
    "print(\"Division of above 2 numbers : \", a/b)"
   ]
  },
  {
   "cell_type": "markdown",
   "id": "5eecd783",
   "metadata": {},
   "source": [
    "### 3.\tWrite a Python program to find the area of a triangle?"
   ]
  },
  {
   "cell_type": "code",
   "execution_count": 3,
   "id": "31bc2244",
   "metadata": {},
   "outputs": [
    {
     "name": "stdout",
     "output_type": "stream",
     "text": [
      "Enter the breath of a triangle17\n",
      "Enter the height of a triangle9\n",
      "Area of a triangle is :  76.5\n"
     ]
    }
   ],
   "source": [
    "# Area of triangle is \"1/2*b*h\n",
    "b = float(input(\"Enter the breath of a triangle\"))\n",
    "h = float(input(\"Enter the height of a triangle\"))\n",
    "print(\"Area of a triangle is : \", (1/2)*b*h)\n"
   ]
  },
  {
   "cell_type": "markdown",
   "id": "dce9334d",
   "metadata": {},
   "source": [
    "### 4.\tWrite a Python program to swap two variables?"
   ]
  },
  {
   "cell_type": "code",
   "execution_count": 4,
   "id": "c8d8fa78",
   "metadata": {},
   "outputs": [
    {
     "name": "stdout",
     "output_type": "stream",
     "text": [
      "Enter 1st number56\n",
      "Enter 2nd number72\n",
      "The current values of a & b 's are :  72 56\n"
     ]
    }
   ],
   "source": [
    "a = int(input(\"Enter 1st number\"))\n",
    "b = int(input(\"Enter 2nd number\"))\n",
    "c=b\n",
    "b=a\n",
    "a=c\n",
    "print(\"The current values of a & b 's are : \", a, b)"
   ]
  },
  {
   "cell_type": "markdown",
   "id": "37f33901",
   "metadata": {},
   "source": [
    "### 5.\tWrite a Python program to generate a random number?"
   ]
  },
  {
   "cell_type": "code",
   "execution_count": 6,
   "id": "4cdeb5c9",
   "metadata": {},
   "outputs": [
    {
     "name": "stdout",
     "output_type": "stream",
     "text": [
      "Random number ->  68416\n",
      "Random number ->  85\n"
     ]
    }
   ],
   "source": [
    "from random import randint\n",
    "\n",
    "def generateRandomNumber(start=0, end=100000):\n",
    "    print('Random number -> ',randint(start,end))\n",
    "\n",
    "# Generating random numbers without arguments    \n",
    "generateRandomNumber()\n",
    "\n",
    "# Generating random numbers with arguments    \n",
    "generateRandomNumber(0,100)"
   ]
  }
 ],
 "metadata": {
  "kernelspec": {
   "display_name": "Python 3",
   "language": "python",
   "name": "python3"
  },
  "language_info": {
   "codemirror_mode": {
    "name": "ipython",
    "version": 3
   },
   "file_extension": ".py",
   "mimetype": "text/x-python",
   "name": "python",
   "nbconvert_exporter": "python",
   "pygments_lexer": "ipython3",
   "version": "3.8.8"
  }
 },
 "nbformat": 4,
 "nbformat_minor": 5
}
