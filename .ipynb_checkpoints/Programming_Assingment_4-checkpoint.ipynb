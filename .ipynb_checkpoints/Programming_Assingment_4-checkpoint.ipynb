{
 "cells": [
  {
   "cell_type": "markdown",
   "id": "6c725794",
   "metadata": {},
   "source": [
    "# Python Programming Basic Assingment-4"
   ]
  },
  {
   "cell_type": "markdown",
   "id": "c5cb9090",
   "metadata": {},
   "source": [
    "### 1.\tWrite a Python Program to Find the Factorial of a Number?"
   ]
  },
  {
   "cell_type": "code",
   "execution_count": 10,
   "id": "342afbd4",
   "metadata": {},
   "outputs": [
    {
     "name": "stdout",
     "output_type": "stream",
     "text": [
      "Enter a number5\n",
      "Factorial of a number 5 is  120\n"
     ]
    }
   ],
   "source": [
    "num = int(input(\"Enter a number\"))\n",
    "\n",
    "def Factorial(num):\n",
    "    a = 1\n",
    "    for i in range(1,num+1):\n",
    "        if i != (num+1):\n",
    "            a = a*i\n",
    "    print(\"Factorial of a number {}\".format(num),\"is \",a )\n",
    "Factorial(num)"
   ]
  },
  {
   "cell_type": "markdown",
   "id": "822e1a18",
   "metadata": {},
   "source": [
    "### 2.\tWrite a Python Program to Display the multiplication Table?"
   ]
  },
  {
   "cell_type": "code",
   "execution_count": 15,
   "id": "939711fe",
   "metadata": {},
   "outputs": [
    {
     "name": "stdout",
     "output_type": "stream",
     "text": [
      "Enter a number to print number Table : 9\n",
      "9 x 1 = 9\n",
      "9 x 2 = 18\n",
      "9 x 3 = 27\n",
      "9 x 4 = 36\n",
      "9 x 5 = 45\n",
      "9 x 6 = 54\n",
      "9 x 7 = 63\n",
      "9 x 8 = 72\n",
      "9 x 9 = 81\n",
      "9 x 10 = 90\n"
     ]
    }
   ],
   "source": [
    "number = int(input(\"Enter a number to print number Table : \"))\n",
    "def Table(number):\n",
    "    for i in range(1,number+2):\n",
    "        print(number,\"x\",i,\"=\",(number)*i)\n",
    "              \n",
    "Table(number)        \n",
    "              \n",
    "\n",
    "        "
   ]
  },
  {
   "cell_type": "markdown",
   "id": "c2eb8767",
   "metadata": {},
   "source": [
    "### 3.\tWrite a Python Program to Print the Fibonacci sequence?"
   ]
  },
  {
   "cell_type": "code",
   "execution_count": 26,
   "id": "654f1baf",
   "metadata": {},
   "outputs": [
    {
     "name": "stdout",
     "output_type": "stream",
     "text": [
      "Enter a number : 11\n",
      "[0, 1, 1, 2, 3, 5, 8, 13, 21, 34, 55]\n"
     ]
    }
   ],
   "source": [
    "num1 = int(input(\"Enter a number : \"))\n",
    "\n",
    "def Fibonacci(num1):\n",
    "    a = 0\n",
    "    c = 1\n",
    "    b = 1\n",
    "    l=[0]\n",
    "    for i in range(1,num1):\n",
    "        if i != (num1):\n",
    "            b = a+c\n",
    "            c = a\n",
    "            a = b\n",
    "            l.append(b)\n",
    "    print(l)\n",
    "Fibonacci(num1)"
   ]
  },
  {
   "cell_type": "markdown",
   "id": "d135b4b2",
   "metadata": {},
   "source": [
    "### 4.\tWrite a Python Program to Check Armstrong Number?"
   ]
  },
  {
   "cell_type": "code",
   "execution_count": 30,
   "id": "5bd46f8e",
   "metadata": {},
   "outputs": [
    {
     "name": "stdout",
     "output_type": "stream",
     "text": [
      "Enter a number: 777\n",
      "777 is a Not Armstrong Number\n",
      "Enter a number: 153\n",
      "153 is a Armstrong Number\n"
     ]
    }
   ],
   "source": [
    "def checkArmstrongNumber():\n",
    "    in_num = input('Enter a number: ')\n",
    "    sum = 0\n",
    "    for i in range(len(in_num)):\n",
    "        sum = sum + pow(int(in_num[i]),3)\n",
    "    if sum == int(in_num):\n",
    "        print(f'{in_num} is a Armstrong Number')\n",
    "    else:\n",
    "        print(f'{in_num} is a Not Armstrong Number')\n",
    "\n",
    "for x in range(2):\n",
    "    checkArmstrongNumber()"
   ]
  },
  {
   "cell_type": "markdown",
   "id": "42668e0c",
   "metadata": {},
   "source": [
    "### 5.\tWrite a Python Program to Find Armstrong Number in an Interval? "
   ]
  },
  {
   "cell_type": "code",
   "execution_count": 40,
   "id": "de80abe4",
   "metadata": {},
   "outputs": [
    {
     "name": "stdout",
     "output_type": "stream",
     "text": [
      "Enter the Start of the Interval: 100\n",
      "Enter the End of the Interval: 400\n",
      "The Armstrong numbers between 100 and 400 are [153, 370, 371]\n"
     ]
    }
   ],
   "source": [
    "def checkArmstrongNumber(in_num, storage):\n",
    "    sum = 0\n",
    "    for char in range(len(in_num)):\n",
    "        sum = sum + pow(int(in_num[char]),3)\n",
    "    if sum == int(in_num):\n",
    "        storage.append(int(in_num))\n",
    "\n",
    "start_interval = int(input('Enter the Start of the Interval: '))\n",
    "end_interval = int(input('Enter the End of the Interval: '))\n",
    "list_of_armstrong = []\n",
    "\n",
    "if start_interval > end_interval:\n",
    "    print(\"Start Interval Cannot be Greater than End Interval\")\n",
    "else:\n",
    "    for number in range(start_interval,end_interval+1):\n",
    "        checkArmstrongNumber(str(number),list_of_armstrong)\n",
    "    print(f'The Armstrong numbers between {start_interval} and {end_interval} are {list_of_armstrong}')"
   ]
  },
  {
   "cell_type": "markdown",
   "id": "85a4208f",
   "metadata": {},
   "source": [
    "### 6.\tWrite a Python Program to Find the Sum of Natural Numbers?"
   ]
  },
  {
   "cell_type": "code",
   "execution_count": 41,
   "id": "c4cb1204",
   "metadata": {},
   "outputs": [
    {
     "name": "stdout",
     "output_type": "stream",
     "text": [
      "Enter a number: 55\n",
      "Sum of 55 natural numbers is 1540.0\n"
     ]
    }
   ],
   "source": [
    "def sumOfNaturalNumbers(num):\n",
    "    sum = num*((num+1)/2)\n",
    "    print(f'Sum of {num} natural numbers is {sum}')\n",
    "    \n",
    "num = int(input('Enter a number: '))\n",
    "sumOfNaturalNumbers(num)"
   ]
  },
  {
   "cell_type": "code",
   "execution_count": null,
   "id": "562027d2",
   "metadata": {},
   "outputs": [],
   "source": []
  }
 ],
 "metadata": {
  "kernelspec": {
   "display_name": "Python 3",
   "language": "python",
   "name": "python3"
  },
  "language_info": {
   "codemirror_mode": {
    "name": "ipython",
    "version": 3
   },
   "file_extension": ".py",
   "mimetype": "text/x-python",
   "name": "python",
   "nbconvert_exporter": "python",
   "pygments_lexer": "ipython3",
   "version": "3.8.8"
  }
 },
 "nbformat": 4,
 "nbformat_minor": 5
}
