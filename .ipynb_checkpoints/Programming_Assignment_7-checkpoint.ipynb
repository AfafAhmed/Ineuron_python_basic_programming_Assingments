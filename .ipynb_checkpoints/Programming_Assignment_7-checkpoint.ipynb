{
 "cells": [
  {
   "cell_type": "markdown",
   "id": "d3a4bb27",
   "metadata": {},
   "source": [
    "# Python Programming Basic Assignment-7"
   ]
  },
  {
   "cell_type": "markdown",
   "id": "823845d3",
   "metadata": {},
   "source": [
    "#### 1. Write a Python Program to find sum of Array ?"
   ]
  },
  {
   "cell_type": "code",
   "execution_count": 6,
   "id": "3b05a9c1",
   "metadata": {},
   "outputs": [
    {
     "name": "stdout",
     "output_type": "stream",
     "text": [
      "Enter the array :[1,2,3,4,5,5]\n",
      "The sum of [1, 2, 3, 4, 5, 5] is 20\n"
     ]
    }
   ],
   "source": [
    "def sum_of_array():\n",
    "    arr = eval(input(\"Enter the array :\"))\n",
    "    print(f'The sum of {arr} is {sum(arr)}')\n",
    "sum_of_array()"
   ]
  },
  {
   "cell_type": "markdown",
   "id": "9e6c1983",
   "metadata": {},
   "source": [
    "#### 2. Write a Python Program to find Largest element in an Array ?"
   ]
  },
  {
   "cell_type": "code",
   "execution_count": 7,
   "id": "f32f4f97",
   "metadata": {},
   "outputs": [
    {
     "name": "stdout",
     "output_type": "stream",
     "text": [
      "enter the array : 1,2,3,4,5,6\n",
      "The largest element of (1, 2, 3, 4, 5, 6) is 6\n"
     ]
    }
   ],
   "source": [
    "def Largest_element():\n",
    "    larr = eval(input(\"enter the array : \"))\n",
    "    print(f'The largest element of {larr} is {max(larr)}')\n",
    "Largest_element()"
   ]
  },
  {
   "cell_type": "markdown",
   "id": "c2705b7d",
   "metadata": {},
   "source": [
    "#### 3. Write a Python Program for array rotation ?"
   ]
  },
  {
   "cell_type": "code",
   "execution_count": 8,
   "id": "c78b6d4d",
   "metadata": {},
   "outputs": [
    {
     "name": "stdout",
     "output_type": "stream",
     "text": [
      "enter the array : 1,3,5,6,77,8\n",
      "The Reverse of Array (1, 3, 5, 6, 77, 8) is (8, 77, 6, 5, 3, 1)\n"
     ]
    }
   ],
   "source": [
    "def array_rotation():\n",
    "    rarr = eval(input(\"enter the array : \"))\n",
    "    print(f\"The Reverse of Array {rarr} is {rarr[::-1]}\")\n",
    "array_rotation()"
   ]
  },
  {
   "cell_type": "markdown",
   "id": "5b6207c1",
   "metadata": {},
   "source": [
    "#### 4. Write a Python Program to Split the array and add the first part to the end ?"
   ]
  },
  {
   "cell_type": "code",
   "execution_count": 30,
   "id": "3cb0b245",
   "metadata": {},
   "outputs": [
    {
     "name": "stdout",
     "output_type": "stream",
     "text": [
      "[6, 7, 8, 2, 3, 4]\n"
     ]
    }
   ],
   "source": [
    "def Split_Join():\n",
    "    a = [2,3,4,6,7,8]\n",
    "    b = a[int(len(a)/2):]\n",
    "    b.extend(a[:int(len(a)/2)])\n",
    "    print(b)\n",
    "Split_Join()"
   ]
  },
  {
   "cell_type": "markdown",
   "id": "eb0e084d",
   "metadata": {},
   "source": [
    "#### 5. Write a Python Program to check if given array is Monotonic ?"
   ]
  },
  {
   "cell_type": "code",
   "execution_count": 31,
   "id": "e4f2ba2d",
   "metadata": {},
   "outputs": [
    {
     "name": "stdout",
     "output_type": "stream",
     "text": [
      "Enter the Array: [1,2,3,4,5]\n",
      "Array [1, 2, 3, 4, 5] is Monotonic\n"
     ]
    }
   ],
   "source": [
    "def checkMonotonic():\n",
    "    in_arr = eval(input(\"Enter the Array: \"))\n",
    "    if(all(in_arr[i]<=in_arr[i+1] for i in range(len(in_arr)-1)) or all(in_arr[i]>=in_arr[i+1] for i in range(len(in_arr)-1))):\n",
    "        print(f'Array {in_arr} is Monotonic')\n",
    "    else:\n",
    "        print(f'Array {in_arr} is Not Monotonic')\n",
    "\n",
    "checkMonotonic()"
   ]
  }
 ],
 "metadata": {
  "kernelspec": {
   "display_name": "Python 3",
   "language": "python",
   "name": "python3"
  },
  "language_info": {
   "codemirror_mode": {
    "name": "ipython",
    "version": 3
   },
   "file_extension": ".py",
   "mimetype": "text/x-python",
   "name": "python",
   "nbconvert_exporter": "python",
   "pygments_lexer": "ipython3",
   "version": "3.8.8"
  }
 },
 "nbformat": 4,
 "nbformat_minor": 5
}
