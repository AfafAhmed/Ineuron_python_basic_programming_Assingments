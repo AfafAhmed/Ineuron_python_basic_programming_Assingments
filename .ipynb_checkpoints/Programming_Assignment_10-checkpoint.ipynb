{
 "cells": [
  {
   "cell_type": "markdown",
   "id": "0753e292",
   "metadata": {},
   "source": [
    "# Python Programming Basic Assignment-10"
   ]
  },
  {
   "cell_type": "markdown",
   "id": "d6f96d38",
   "metadata": {},
   "source": [
    "#### 1.Write a Python Program to find sum of elements in a list ?"
   ]
  },
  {
   "cell_type": "code",
   "execution_count": 1,
   "id": "baac146b",
   "metadata": {},
   "outputs": [
    {
     "name": "stdout",
     "output_type": "stream",
     "text": [
      "Enter the elements in the list :[1,3,5,2,4,2,99]\n",
      "sum of the elements in the list 116\n"
     ]
    }
   ],
   "source": [
    "def sum_of_elements():\n",
    "    ls = eval(input(\"Enter the elements in the list :\"))\n",
    "    result=0\n",
    "    for i in ls:\n",
    "        result = result+i\n",
    "    print(f'sum of the elements in the list {result}')\n",
    "sum_of_elements()\n",
    "\n",
    "#we can use sum(iterable)"
   ]
  },
  {
   "cell_type": "markdown",
   "id": "35ff9c7c",
   "metadata": {},
   "source": [
    "#### 2.Write a Python Program to multiply all numbers in the list ?"
   ]
  },
  {
   "cell_type": "code",
   "execution_count": 3,
   "id": "453dbf94",
   "metadata": {},
   "outputs": [
    {
     "name": "stdout",
     "output_type": "stream",
     "text": [
      "Enter the elements in the list :[23,4,5,6,22,4]\n",
      "multiplication of the elements in the list 242880\n"
     ]
    }
   ],
   "source": [
    "def multiplication_of_elements():\n",
    "    ls = eval(input(\"Enter the elements in the list :\"))\n",
    "    result=1\n",
    "    for i in ls:\n",
    "        result = result*i\n",
    "    print(f'multiplication of the elements in the list {result}')\n",
    "multiplication_of_elements()"
   ]
  },
  {
   "cell_type": "markdown",
   "id": "0561967b",
   "metadata": {},
   "source": [
    "#### 3.Write a Python Program to find smallest number in the list ?"
   ]
  },
  {
   "cell_type": "code",
   "execution_count": 5,
   "id": "24047e35",
   "metadata": {},
   "outputs": [
    {
     "name": "stdout",
     "output_type": "stream",
     "text": [
      "Enter the elements in the list :[3,4,-3,0,-1]\n",
      "smallest element in the list is -3\n"
     ]
    }
   ],
   "source": [
    "def smallest_elements():\n",
    "    ls = eval(input(\"Enter the elements in the list :\"))\n",
    "    print(f'smallest element in the list is {min(ls)}')\n",
    "smallest_elements()\n",
    "\n",
    "#we can use sorted()"
   ]
  },
  {
   "cell_type": "markdown",
   "id": "0684d2e6",
   "metadata": {},
   "source": [
    "#### 4.Write a Python Program to find largest number in the list ?"
   ]
  },
  {
   "cell_type": "code",
   "execution_count": 6,
   "id": "ab536a15",
   "metadata": {},
   "outputs": [
    {
     "name": "stdout",
     "output_type": "stream",
     "text": [
      "Enter the elements in the list :[33,44,55,11,88]\n",
      "largest element in the list is 88\n"
     ]
    }
   ],
   "source": [
    "def largest_elements():\n",
    "    ls = eval(input(\"Enter the elements in the list :\"))\n",
    "    print(f'largest element in the list is {max(ls)}')\n",
    "largest_elements()\n",
    "#we can use sorted(reverse = True)"
   ]
  },
  {
   "cell_type": "markdown",
   "id": "ef882ac4",
   "metadata": {},
   "source": [
    "#### 5.Write a Python Program to find second largest number in the list ?"
   ]
  },
  {
   "cell_type": "code",
   "execution_count": 7,
   "id": "6410b46d",
   "metadata": {},
   "outputs": [
    {
     "name": "stdout",
     "output_type": "stream",
     "text": [
      "Enter the elements in the list :[34,66,27,56,87,90]\n",
      "largest element in the list is 87\n"
     ]
    }
   ],
   "source": [
    "def second_largest_elements():\n",
    "    ls = eval(input(\"Enter the elements in the list :\"))\n",
    "    print(f'largest element in the list is {sorted(ls,reverse=True)[1]}')\n",
    "second_largest_elements()\n",
    "#we can use sorted(reverse = True)"
   ]
  },
  {
   "cell_type": "markdown",
   "id": "ee185d52",
   "metadata": {},
   "source": [
    "#### 6.Write a Python Program to find N largest elements in the list ?"
   ]
  },
  {
   "cell_type": "code",
   "execution_count": 8,
   "id": "bfacee35",
   "metadata": {},
   "outputs": [
    {
     "name": "stdout",
     "output_type": "stream",
     "text": [
      "Enter the elements in a list: [3,5,8,2,5,3,66,9,0,88]\n",
      "Enter the n largest value for elements5\n",
      "The 5 Largest Element in [3, 5, 8, 2, 5, 3, 66, 9, 0, 88] is [88, 66, 9, 8, 5]\n"
     ]
    }
   ],
   "source": [
    "def nLargestEleInList():\n",
    "    ls = eval(input('Enter the elements in a list: '))\n",
    "    k = int(input('Enter the n largest value for elements'))\n",
    "    print(f'The {k} Largest Element in {ls} is {sorted(ls, reverse=True)[0:k]}')\n",
    "\n",
    "nLargestEleInList()"
   ]
  },
  {
   "cell_type": "markdown",
   "id": "7f5a2b91",
   "metadata": {},
   "source": [
    "#### 7.Write a Python Program to find even numbers in the list ?"
   ]
  },
  {
   "cell_type": "code",
   "execution_count": 12,
   "id": "7033b95a",
   "metadata": {},
   "outputs": [
    {
     "name": "stdout",
     "output_type": "stream",
     "text": [
      "Enter the elements in a list: [22,21,19,18,16]\n",
      "list of even number is [22, 18, 16]\n"
     ]
    }
   ],
   "source": [
    "def even_numbers():\n",
    "    ls = eval(input('Enter the elements in a list: '))\n",
    "    result = [i for i in ls if(i%2==0)]\n",
    "    print(f'list of even number is {result}')\n",
    "even_numbers()"
   ]
  },
  {
   "cell_type": "markdown",
   "id": "a5d3f862",
   "metadata": {},
   "source": [
    "#### 8.Write a Python Program to find odd numbers in the list ?"
   ]
  },
  {
   "cell_type": "code",
   "execution_count": 14,
   "id": "dd01c6e3",
   "metadata": {},
   "outputs": [
    {
     "name": "stdout",
     "output_type": "stream",
     "text": [
      "Enter the elements in a list: [11,12,13,15,16,17]\n",
      "list of odd number is [11, 13, 15, 17]\n"
     ]
    }
   ],
   "source": [
    "def odd_numbers():\n",
    "    ls = eval(input('Enter the elements in a list: '))\n",
    "    result = [i for i in ls if(i%2 != 0)]\n",
    "    print(f'list of odd number is {result}')\n",
    "odd_numbers()"
   ]
  },
  {
   "cell_type": "markdown",
   "id": "f97fa7ea",
   "metadata": {},
   "source": [
    "#### 9.Write a Python Program to remove empty list from list ?"
   ]
  },
  {
   "cell_type": "code",
   "execution_count": 15,
   "id": "ce909029",
   "metadata": {},
   "outputs": [
    {
     "name": "stdout",
     "output_type": "stream",
     "text": [
      "Enter the elements in a list: [[1,2,3],[],1,[5,6,7]]\n",
      "list without empty list [[1, 2, 3], 1, [5, 6, 7]]\n"
     ]
    }
   ],
   "source": [
    "def remove_empty_list():\n",
    "    ls = eval(input('Enter the elements in a list: '))\n",
    "    result = [i for i in ls if(i != [])]\n",
    "    print(f'list without empty list {result}')\n",
    "remove_empty_list()\n",
    "\n",
    "#we can also use .remove([])"
   ]
  },
  {
   "cell_type": "markdown",
   "id": "1a5b1f91",
   "metadata": {},
   "source": [
    "#### 10.Write a Python Program to Cloning or Copying a list ?"
   ]
  },
  {
   "cell_type": "code",
   "execution_count": 16,
   "id": "4773fecc",
   "metadata": {},
   "outputs": [
    {
     "name": "stdout",
     "output_type": "stream",
     "text": [
      "Enter a list[2,3,4,6,7]\n",
      "[2, 3, 4, 6, 7] 2711957114944\n",
      "[2, 3, 4, 6, 7] 2711956986944\n"
     ]
    }
   ],
   "source": [
    "import copy\n",
    "\n",
    "def cloneList():\n",
    "    in_list = eval(input('Enter a list'))\n",
    "    print(in_list, id(in_list))\n",
    "    cloned_list = in_list.copy()\n",
    "    print(cloned_list, id(cloned_list))\n",
    "\n",
    "cloneList()"
   ]
  },
  {
   "cell_type": "markdown",
   "id": "37e5e6bd",
   "metadata": {},
   "source": [
    "#### 11.Write a Python Program to count occurences of an element in a list ?"
   ]
  },
  {
   "cell_type": "code",
   "execution_count": 17,
   "id": "f09b719a",
   "metadata": {},
   "outputs": [
    {
     "name": "stdout",
     "output_type": "stream",
     "text": [
      "Enter the elements of the list: [3,4,4,5,6,6,7,8,8,8]\n",
      "Enter the element to find: 8\n",
      "There are 3 occurences of 8 in [3, 4, 4, 5, 6, 6, 7, 8, 8, 8]\n"
     ]
    }
   ],
   "source": [
    "def checkOccurence():\n",
    "    in_list = eval(input('Enter the elements of the list: '))\n",
    "    in_num = eval(input('Enter the element to find: '))\n",
    "    count = 0\n",
    "    if in_num in in_list:\n",
    "        for ele in in_list:\n",
    "            if ele == in_num:\n",
    "                count = count+1\n",
    "    print(f'There are {count} occurences of {in_num} in {in_list}')\n",
    "    \n",
    "checkOccurence()"
   ]
  }
 ],
 "metadata": {
  "kernelspec": {
   "display_name": "Python 3",
   "language": "python",
   "name": "python3"
  },
  "language_info": {
   "codemirror_mode": {
    "name": "ipython",
    "version": 3
   },
   "file_extension": ".py",
   "mimetype": "text/x-python",
   "name": "python",
   "nbconvert_exporter": "python",
   "pygments_lexer": "ipython3",
   "version": "3.8.8"
  }
 },
 "nbformat": 4,
 "nbformat_minor": 5
}
