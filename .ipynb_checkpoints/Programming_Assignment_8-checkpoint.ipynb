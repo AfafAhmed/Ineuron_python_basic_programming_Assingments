{
 "cells": [
  {
   "cell_type": "markdown",
   "id": "d3a4bb27",
   "metadata": {},
   "source": [
    "# Python Programming Basic Assignment-8"
   ]
  },
  {
   "cell_type": "code",
   "execution_count": 1,
   "id": "8196d44c",
   "metadata": {},
   "outputs": [],
   "source": [
    "import numpy as np"
   ]
  },
  {
   "cell_type": "markdown",
   "id": "823845d3",
   "metadata": {},
   "source": [
    "#### 1. Write a Python Program to Add two Matrices ?"
   ]
  },
  {
   "cell_type": "code",
   "execution_count": 9,
   "id": "0739af67",
   "metadata": {},
   "outputs": [
    {
     "name": "stdout",
     "output_type": "stream",
     "text": [
      "enter the array 1 : [[1,2,4,5],[3,4,5,6]]\n",
      "enter the array 2 : [[3,6,7,8],[2,3,5,7]]\n",
      "[[ 4  8 11 13]\n",
      " [ 5  7 10 13]]\n"
     ]
    }
   ],
   "source": [
    "def Add_two_matrices():\n",
    "    l1 = eval(input(\"enter the array 1 : \"))\n",
    "    l2 = eval(input(\"enter the array 2 : \"))\n",
    "    mat1 = np.array(l1)\n",
    "    mat2 = np.array(l2)\n",
    "    result = mat1+mat2\n",
    "    print(result)\n",
    "Add_two_matrices()"
   ]
  },
  {
   "cell_type": "markdown",
   "id": "9e6c1983",
   "metadata": {},
   "source": [
    "#### 2. Write a Python Program to Multiply two Matrices ?"
   ]
  },
  {
   "cell_type": "code",
   "execution_count": 12,
   "id": "f8271303",
   "metadata": {},
   "outputs": [
    {
     "name": "stdout",
     "output_type": "stream",
     "text": [
      "enter the array 1 : [[1,2,4,5],[3,4,5,6]]\n",
      "enter the array 2 : [[3,6],[7,8],[2,3],[5,7]]\n",
      "[[ 50  69]\n",
      " [ 77 107]]\n"
     ]
    }
   ],
   "source": [
    "def Mult_two_matrices():\n",
    "    l1 = eval(input(\"enter the array 1 : \"))\n",
    "    l2 = eval(input(\"enter the array 2 : \"))\n",
    "    mat1 = np.array(l1)\n",
    "    mat2 = np.array(l2)\n",
    "    result = mat1.dot(mat2)\n",
    "    print(result)\n",
    "Mult_two_matrices()"
   ]
  },
  {
   "cell_type": "markdown",
   "id": "c2705b7d",
   "metadata": {},
   "source": [
    "#### 3. Write a Python Program to transpose a Matrix ?"
   ]
  },
  {
   "cell_type": "code",
   "execution_count": 14,
   "id": "37c67371",
   "metadata": {},
   "outputs": [
    {
     "name": "stdout",
     "output_type": "stream",
     "text": [
      "enter the array 1 : [[2,3,45,5],[2,3,4,5],[1,2,33,5]]\n",
      "[[ 2  2  1]\n",
      " [ 3  3  2]\n",
      " [45  4 33]\n",
      " [ 5  5  5]]\n"
     ]
    }
   ],
   "source": [
    "def Transpose_matrix():\n",
    "    l1 = eval(input(\"enter the array 1 : \"))\n",
    "\n",
    "    mat1 = np.array(l1)\n",
    "    result = mat1.transpose()\n",
    "    print(result)\n",
    "Transpose_matrix()"
   ]
  },
  {
   "cell_type": "markdown",
   "id": "5b6207c1",
   "metadata": {},
   "source": [
    "#### 4. Write a Python Program to sort Words in an Alphabatical Order ?"
   ]
  },
  {
   "cell_type": "code",
   "execution_count": 21,
   "id": "e1573052",
   "metadata": {},
   "outputs": [
    {
     "name": "stdout",
     "output_type": "stream",
     "text": [
      "Enter the String :My name is Afaf Ahmed\n",
      "Afaf Ahmed Is My Name\n"
     ]
    }
   ],
   "source": [
    "def sortString():\n",
    "    in_string = sorted(input(\"Enter the String :\").title().split())\n",
    "    print(' '.join(in_string))\n",
    "\n",
    "sortString()"
   ]
  },
  {
   "cell_type": "markdown",
   "id": "eb0e084d",
   "metadata": {},
   "source": [
    "#### 5. Write a Python Program to remove Punctuations From a String ?"
   ]
  },
  {
   "cell_type": "code",
   "execution_count": 22,
   "id": "eea08a55",
   "metadata": {},
   "outputs": [
    {
     "name": "stdout",
     "output_type": "stream",
     "text": [
      "Enter a String: Ohh# my Godd!!\n",
      "Ohh my Godd\n"
     ]
    }
   ],
   "source": [
    "def removePunctuatuions():\n",
    "    punctuations = '''!()-[]{};:'\"\\,<>./?@#$%^&*_~'''\n",
    "    in_string = input('Enter a String: ')\n",
    "    out_string = ''\n",
    "    for ele in in_string:\n",
    "        if ele not in punctuations:\n",
    "            out_string += ele\n",
    "    print(out_string)\n",
    "    \n",
    "removePunctuatuions()"
   ]
  }
 ],
 "metadata": {
  "kernelspec": {
   "display_name": "Python 3",
   "language": "python",
   "name": "python3"
  },
  "language_info": {
   "codemirror_mode": {
    "name": "ipython",
    "version": 3
   },
   "file_extension": ".py",
   "mimetype": "text/x-python",
   "name": "python",
   "nbconvert_exporter": "python",
   "pygments_lexer": "ipython3",
   "version": "3.8.8"
  }
 },
 "nbformat": 4,
 "nbformat_minor": 5
}
