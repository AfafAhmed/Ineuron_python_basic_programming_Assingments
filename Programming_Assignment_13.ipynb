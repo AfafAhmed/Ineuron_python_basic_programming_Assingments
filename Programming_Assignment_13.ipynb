{
 "cells": [
  {
   "cell_type": "markdown",
   "id": "bf5409c0",
   "metadata": {},
   "source": [
    "# Python Programming Basic Assignment-13"
   ]
  },
  {
   "cell_type": "markdown",
   "id": "e73a2da3",
   "metadata": {},
   "source": [
    "#### 1.Write a program that calculates and prints the value according to the given formula:\n",
    "`Q = Square root of [(2 * C * D)/H]`  \n",
    "Following are the fixed values of C and H:  \n",
    "C is 50. H is 30.  \n",
    "D is the variable whose values should be input to your program in a comma-separated sequence.  \n",
    "**Example:** Let us assume the following comma separated input sequence is given to the program:`100,150,180`  \n",
    "The output of the program should be:  `18,22,24`    "
   ]
  },
  {
   "cell_type": "code",
   "execution_count": 1,
   "id": "08cec55a",
   "metadata": {},
   "outputs": [
    {
     "name": "stdout",
     "output_type": "stream",
     "text": [
      "Enter the Input: [23,5,8]\n",
      "Output: 8,4,5\n"
     ]
    }
   ],
   "source": [
    "from math import sqrt\n",
    "def calculateProgram():\n",
    "    in_num = eval(input(\"Enter the Input: \"))\n",
    "    out_num = []\n",
    "    C = 50 # Declaring and initializing constant C\n",
    "    H = 30 # Declaring and initializing constant H\n",
    "    for ele in in_num:\n",
    "        Q = str(int(sqrt((2*C*ele)/H)))\n",
    "        out_num.append(Q)\n",
    "    print(\"Output: {}\".format(','.join(out_num)))\n",
    "    \n",
    "calculateProgram()"
   ]
  },
  {
   "cell_type": "markdown",
   "id": "2f5b884e",
   "metadata": {},
   "source": [
    "#### 2.Write a program which takes 2 digits, X,Y as input and generates a 2-dimensional array. The element value in the i-th row and j-th column of the array should be i*j.     \n",
    "`Note: i=0,1.., X-1; j=0,1,¡Y-1.`  \n",
    "**Example:** Suppose the following inputs are given to the program: `3,5`  \n",
    "Then, the output of the program should be:`[[0, 0, 0, 0, 0], [0, 1, 2, 3, 4], [0, 2, 4, 6, 8]]`   "
   ]
  },
  {
   "cell_type": "code",
   "execution_count": 5,
   "id": "8fae7441",
   "metadata": {},
   "outputs": [
    {
     "name": "stdout",
     "output_type": "stream",
     "text": [
      "Enter the X value :4\n",
      "Enter the Y value :5\n",
      "Output : [[0, 0, 0, 0, 0], [0, 1, 2, 3, 4], [0, 2, 4, 6, 8], [0, 3, 6, 9, 12]]\n"
     ]
    }
   ],
   "source": [
    "def generate_2D_array():\n",
    "    X = int(input(\"Enter the X value :\"))\n",
    "    Y = int(input(\"Enter the Y value :\"))\n",
    "    out = []\n",
    "    for x in range(X):\n",
    "        out.append([x*y for y in range(Y)])\n",
    "    print(f\"Output : {out}\")\n",
    "generate_2D_array()"
   ]
  },
  {
   "cell_type": "markdown",
   "id": "512e5348",
   "metadata": {},
   "source": [
    "#### 3.Write a program that accepts a comma separated sequence of words as input and prints the words in a comma-separated sequence after sorting them alphabetically ? \n",
    "Suppose the following input is supplied to the program: `without,hello,bag,world`  \n",
    "Then, the output should be: `bag,hello,without,world`\n"
   ]
  },
  {
   "cell_type": "code",
   "execution_count": 8,
   "id": "fe43b777",
   "metadata": {},
   "outputs": [
    {
     "name": "stdout",
     "output_type": "stream",
     "text": [
      "Enter the Input String: This is a basic python programming assingment\n",
      "Output: A,Assingment,Basic,Is,Programming,Python,This\n"
     ]
    }
   ],
   "source": [
    "def sortString():\n",
    "    in_string = input(\"Enter the Input String: \")\n",
    "    out_string = ','.join(sorted(in_string.title().split()))\n",
    "    print(f'Output: {out_string}')\n",
    "    \n",
    "sortString()"
   ]
  },
  {
   "cell_type": "markdown",
   "id": "67d99dab",
   "metadata": {},
   "source": [
    "#### 4.Write a program that accepts a sequence of whitespace separated words as input and prints the words after removing all duplicate words and sorting them alphanumerically.\n",
    "Suppose the following input is supplied to the program: `hello world and practice makes perfect and hello world again`  \n",
    "Then, the output should be: `again and hello makes perfect practice world`"
   ]
  },
  {
   "cell_type": "code",
   "execution_count": 9,
   "id": "469e3462",
   "metadata": {},
   "outputs": [
    {
     "name": "stdout",
     "output_type": "stream",
     "text": [
      "Enter the Input String: this is a basic python programming assingment in python\n",
      "Output: a assingment basic in is programming python this\n"
     ]
    }
   ],
   "source": [
    "def sortAlphaNumerically():\n",
    "    in_string = input(\"Enter the Input String: \")\n",
    "    out_string = ' '.join(sorted(sorted(list(set(in_string.split(\" \"))))))\n",
    "    print(f'Output: {out_string}')\n",
    "    \n",
    "sortAlphaNumerically()"
   ]
  },
  {
   "cell_type": "markdown",
   "id": "bf647aa0",
   "metadata": {},
   "source": [
    "#### 5.Write a program that accepts a sentence and calculate the number of letters and digits.\n",
    "Suppose the following input is supplied to the program: `hello world! 123`  \n",
    "Then, the output should be:  \n",
    "`LETTERS 10`  \n",
    "`DIGITS 3`  "
   ]
  },
  {
   "cell_type": "code",
   "execution_count": 13,
   "id": "0bf10297",
   "metadata": {},
   "outputs": [
    {
     "name": "stdout",
     "output_type": "stream",
     "text": [
      "Enter the Input String: 13 = this is a 13th basic python programming assingment\n",
      "LETTERS 46 \n",
      "DIGITS 4\n"
     ]
    }
   ],
   "source": [
    "def countLetterAndDigits():\n",
    "    in_string = input(\"Enter the Input String: \")\n",
    "    digitsList = '0123456789'\n",
    "    letters = 0\n",
    "    digits = 0\n",
    "    for ele in in_string:\n",
    "        if ele in digitsList:\n",
    "            digits += 1\n",
    "        if ele == ' ':\n",
    "            continue\n",
    "        else:\n",
    "            letters += 1\n",
    "    print(f'LETTERS {letters} \\nDIGITS {digits}')\n",
    "        \n",
    "countLetterAndDigits()"
   ]
  },
  {
   "cell_type": "markdown",
   "id": "925eb219",
   "metadata": {},
   "source": [
    "#### 6.A website requires the users to input username and password to register. Write a program to check the validity of password input by users.\n",
    "Following are the criteria for checking the password:  \n",
    "1. At least 1 letter between [a-z]\n",
    "2. At least 1 number between [0-9]\n",
    "1. At least 1 letter between [A-Z]\n",
    "3. At least 1 character from [$#@]\n",
    "4. Minimum length of transaction password: 6\n",
    "5. Maximum length of transaction password: 12\n",
    "\n",
    "Your program should accept a sequence of comma separated passwords and will check them according to the above criteria. Passwords that match the criteria are to be printed, each separated by a comma.\n",
    "\n",
    "**Example:**  \n",
    "If the following passwords are given as input to the program: `ABd1234@1,a F1#,2w3E*,2We3345`  \n",
    "Then, the output of the program should be:`ABd1234@1`\n"
   ]
  },
  {
   "cell_type": "code",
   "execution_count": 14,
   "id": "099c8da4",
   "metadata": {},
   "outputs": [
    {
     "name": "stdout",
     "output_type": "stream",
     "text": [
      "Enter the Input String: ABd1234@1,a F1#,2w3E*,2We3345\n",
      "ABd1234@1\n"
     ]
    }
   ],
   "source": [
    "def checkPassword():\n",
    "    in_string = input(\"Enter the Input String: \")\n",
    "    small_list = \"abcdefghijklmnopqrstuvwxyz\"\n",
    "    cap_list = \"ABCDEFGHIJKLMNOPQRSTUVWXYZ\"\n",
    "    num_list = \"0123456789\"\n",
    "    special_list = \"$#@\"\n",
    "    for ele in in_string.split(\",\"):\n",
    "        if len(ele) <= 12 and len(ele) >=6 :\n",
    "            if any(i.isupper() for i in ele):\n",
    "                if any(i.islower() for i in ele):\n",
    "                    if any(i for i in ele if i in special_list):\n",
    "                        print(ele)\n",
    "                               \n",
    "checkPassword() "
   ]
  }
 ],
 "metadata": {
  "kernelspec": {
   "display_name": "Python 3",
   "language": "python",
   "name": "python3"
  },
  "language_info": {
   "codemirror_mode": {
    "name": "ipython",
    "version": 3
   },
   "file_extension": ".py",
   "mimetype": "text/x-python",
   "name": "python",
   "nbconvert_exporter": "python",
   "pygments_lexer": "ipython3",
   "version": "3.8.8"
  }
 },
 "nbformat": 4,
 "nbformat_minor": 5
}
